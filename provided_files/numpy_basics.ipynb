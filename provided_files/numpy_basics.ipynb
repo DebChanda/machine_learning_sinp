{
 "cells": [
  {
   "cell_type": "markdown",
   "metadata": {},
   "source": [
    "### shamik_april_2\n",
    "## numpy basics"
   ]
  },
  {
   "cell_type": "code",
   "execution_count": 3,
   "metadata": {},
   "outputs": [],
   "source": [
    "import numpy as np\n",
    "from __future__ import division\n"
   ]
  },
  {
   "cell_type": "code",
   "execution_count": 4,
   "metadata": {},
   "outputs": [
    {
     "name": "stdout",
     "output_type": "stream",
     "text": [
      "<type 'int'>\n",
      "<type 'float'>\n",
      "[1, 2, 3]\n",
      "<type 'list'>\n",
      "[1 2 3]\n",
      "<type 'numpy.ndarray'>\n"
     ]
    }
   ],
   "source": [
    "a = 1\n",
    "print type(a)\n",
    "a = 1.0\n",
    "print type(a)\n",
    "a = [1,2,3]\n",
    "print a\n",
    "print type(a)\n",
    "a = np.array(a)\n",
    "print a\n",
    "print type(a)"
   ]
  },
  {
   "cell_type": "code",
   "execution_count": 5,
   "metadata": {},
   "outputs": [
    {
     "name": "stdout",
     "output_type": "stream",
     "text": [
      "[-0.33595513 -0.69276717  0.50555019  0.94996711  0.33053508 -1.05697739\n",
      " -0.21130411  1.73049206  0.62805665  1.27611885 -0.57925316 -1.77227593]\n"
     ]
    },
    {
     "data": {
      "text/plain": [
       "array([[[-0.33595513, -0.69276717],\n",
       "        [ 0.50555019,  0.94996711]],\n",
       "\n",
       "       [[ 0.33053508, -1.05697739],\n",
       "        [-0.21130411,  1.73049206]],\n",
       "\n",
       "       [[ 0.62805665,  1.27611885],\n",
       "        [-0.57925316, -1.77227593]]])"
      ]
     },
     "execution_count": 5,
     "metadata": {},
     "output_type": "execute_result"
    }
   ],
   "source": [
    "x = np.random.randn(12)\n",
    "print x\n",
    "x.reshape(3,2,2)"
   ]
  },
  {
   "cell_type": "code",
   "execution_count": 11,
   "metadata": {},
   "outputs": [],
   "source": [
    "def parabola(a0, a1, a2, x):\n",
    "#     a0 = 1\n",
    "#     a1 = 2\n",
    "#     a2 = 5\n",
    "    return a0 * x + a1 * x + a2 * x**2\n",
    "\n",
    "s_x = np.linspace(-10,10,200)\n",
    "f_x = parabola(1,2,0,s_x)"
   ]
  },
  {
   "cell_type": "code",
   "execution_count": 12,
   "metadata": {},
   "outputs": [
    {
     "data": {
      "image/png": "[encoded data removed]",
      "text/plain": [
       "<Figure size 432x288 with 1 Axes>"
      ]
     },
     "metadata": {
      "needs_background": "light"
     },
     "output_type": "display_data"
    }
   ],
   "source": [
    "import matplotlib.pylab as plt\n",
    "plt.plot(s_x,f_x,color='r')\n",
    "plt.show()"
   ]
  },
  {
   "cell_type": "code",
   "execution_count": null,
   "metadata": {
    "collapsed": true
   },
   "outputs": [],
   "source": []
  }
 ],
 "metadata": {
  "kernelspec": {
   "display_name": "Python 2",
   "language": "python",
   "name": "python2"
  },
  "language_info": {
   "codemirror_mode": {
    "name": "ipython",
    "version": 2
   },
   "file_extension": ".py",
   "mimetype": "text/x-python",
   "name": "python",
   "nbconvert_exporter": "python",
   "pygments_lexer": "ipython2",
   "version": "2.7.16"
  }
 },
 "nbformat": 4,
 "nbformat_minor": 2
}
