{
 "cells": [
  {
   "cell_type": "markdown",
   "metadata": {},
   "source": [
    "### shamik_april_2\n",
    "## To test forward pass"
   ]
  },
  {
   "cell_type": "code",
   "execution_count": 8,
   "metadata": {},
   "outputs": [
    {
     "name": "stdout",
     "output_type": "stream",
     "text": [
      "[8.08912204 6.95900924]\n",
      "[1. 0.]\n",
      "(2,)\n",
      "(1, 2)\n"
     ]
    }
   ],
   "source": [
    "from matplotlib import pyplot as plt \n",
    "import numpy as np\n",
    "def sigmoid(x):\n",
    "    return 1 / (1 + np.e ** -x)\n",
    "def softmax(x):\n",
    "    \"\"\"Compute softmax values for each sets of scores in x.\"\"\"\n",
    "    return np.exp(x) / np.sum(np.exp(x), axis=0)\n",
    "\n",
    "\n",
    "#load dataset and print entry\n",
    "dataset = np.loadtxt(fname=\"sample_shuff_train.txt\")\n",
    "\n",
    "X_train = dataset[0,:2]\n",
    "Y_train = dataset[0,2:]\n",
    "print X_train\n",
    "print Y_train\n",
    "\n",
    "print X_train.shape\n",
    "print X_train.reshape(1,2).shape"
   ]
  },
  {
   "cell_type": "code",
   "execution_count": 9,
   "metadata": {},
   "outputs": [
    {
     "name": "stdout",
     "output_type": "stream",
     "text": [
      "hidden layer weight matrix:\n",
      "[[0.99458833 0.43493998]\n",
      " [0.65451407 0.93824934]\n",
      " [0.3336242  0.30801018]]\n",
      "output layer weight matrix:\n",
      "[[0.8099001  0.7898278  0.14423292]\n",
      " [0.16141241 0.11873602 0.96666539]]\n"
     ]
    }
   ],
   "source": [
    "#create weight matrix\n",
    "n_input = int(2)\n",
    "n_hidden = int(3)\n",
    "n_output = int(2)\n",
    "hidden_weights = np.random.rand(n_hidden,n_input)\n",
    "output_weights = np.random.rand(n_output,n_hidden)\n",
    "print \"hidden layer weight matrix:\\n\",hidden_weights\n",
    "print \"output layer weight matrix:\\n\",output_weights"
   ]
  },
  {
   "cell_type": "code",
   "execution_count": 10,
   "metadata": {},
   "outputs": [
    {
     "name": "stdout",
     "output_type": "stream",
     "text": [
      "output of summed input of hidden layer:\n",
      "[[11.07209771]\n",
      " [11.82373004]\n",
      " [ 4.84217262]]\n",
      "activated output of hidden layer:\n",
      "[[0.99998446]\n",
      " [0.99999267]\n",
      " [0.99217187]]\n",
      "output of summed input to last layer:\n",
      "[[1.74281337]\n",
      " [1.23924326]]\n",
      "activated output of last layer:\n",
      "[[0.62329795]\n",
      " [0.37670205]]\n"
     ]
    }
   ],
   "source": [
    "input_vector = np.array(X_train, ndmin=2).T\n",
    "output_vector = np.dot(hidden_weights, input_vector)\n",
    "print \"output of summed input of hidden layer:\\n\",output_vector\n",
    "output_vector = sigmoid(output_vector)\n",
    "print \"activated output of hidden layer:\\n\",output_vector\n",
    "output_vector = np.dot(output_weights, output_vector)\n",
    "print \"output of summed input to last layer:\\n\",output_vector\n",
    "output_vector = softmax(output_vector)\n",
    "print \"activated output of last layer:\\n\",output_vector"
   ]
  },
  {
   "cell_type": "code",
   "execution_count": 11,
   "metadata": {},
   "outputs": [
    {
     "name": "stdout",
     "output_type": "stream",
     "text": [
      "[[1.]\n",
      " [0.]]\n",
      "0.14190443182641987\n"
     ]
    }
   ],
   "source": [
    "expected = np.array(Y_train,ndmin=2).T\n",
    "print expected\n",
    "error = np.sum([(expected-output_vector)**2])/2\n",
    "print error"
   ]
  },
  {
   "cell_type": "code",
   "execution_count": null,
   "metadata": {
    "collapsed": true
   },
   "outputs": [],
   "source": []
  }
 ],
 "metadata": {
  "kernelspec": {
   "display_name": "Python 2",
   "language": "python",
   "name": "python2"
  },
  "language_info": {
   "codemirror_mode": {
    "name": "ipython",
    "version": 2
   },
   "file_extension": ".py",
   "mimetype": "text/x-python",
   "name": "python",
   "nbconvert_exporter": "python",
   "pygments_lexer": "ipython2",
   "version": "2.7.16"
  }
 },
 "nbformat": 4,
 "nbformat_minor": 2
}
