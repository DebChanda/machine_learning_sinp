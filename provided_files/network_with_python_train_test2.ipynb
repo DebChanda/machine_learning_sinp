{
 "cells": [
  {
   "cell_type": "markdown",
   "metadata": {},
   "source": [
    "### shamik_april_2\n",
    "## vanilla network with numpy"
   ]
  },
  {
   "cell_type": "markdown",
   "metadata": {},
   "source": [
    "## Load libraries and define activations"
   ]
  },
  {
   "cell_type": "code",
   "execution_count": 11,
   "metadata": {},
   "outputs": [],
   "source": [
    "from matplotlib import pyplot as plt \n",
    "import numpy as np\n",
    "def sigmoid(x):\n",
    "    return 1 / (1 + np.e ** -x)\n",
    "def softmax(x):\n",
    "    \"\"\"Compute softmax values for each sets of scores in x.\"\"\"   \n",
    "    return np.exp(x) / np.sum(np.exp(x), axis=0)\n",
    "n_input = int(2)\n",
    "n_hidden = int(3)\n",
    "n_output = int(2)\n",
    "n_epochs = 50"
   ]
  },
  {
   "cell_type": "markdown",
   "metadata": {},
   "source": [
    "## Function for forward pass of data"
   ]
  },
  {
   "cell_type": "code",
   "execution_count": 12,
   "metadata": {},
   "outputs": [],
   "source": [
    "def forward_pass_output(input_vector,hidden_weights,output_weights):\n",
    "        # input_vector is ndarray\n",
    "        input_vector = np.array(input_vector, ndmin=2).T\n",
    "        output_vector = np.dot(hidden_weights, input_vector)\n",
    "        output_vector = sigmoid(output_vector)\n",
    "        output_vector = np.dot(output_weights, output_vector)\n",
    "        output_vector = softmax(output_vector)\n",
    "        return output_vector\n"
   ]
  },
  {
   "cell_type": "markdown",
   "metadata": {},
   "source": [
    "## Backpropagation "
   ]
  },
  {
   "cell_type": "code",
   "execution_count": 13,
   "metadata": {},
   "outputs": [],
   "source": [
    "def train(input_vector,expected_vector,learning_rate,hidden_weights,output_weights ):\n",
    "    input_vector = np.array(input_vector, ndmin=2).T\n",
    "    expected_vector = np.array(expected_vector, ndmin=2).T\n",
    "    output_vector1 = np.dot(hidden_weights, input_vector)\n",
    "    output_vector_hidden = sigmoid(output_vector1)\n",
    "    output_vector2 = np.dot(output_weights, output_vector_hidden)\n",
    "    output_vector_network = softmax(output_vector2)\n",
    "    #calculate output error\n",
    "    error_at_output = (expected_vector - output_vector_network)\n",
    "    # update the weights:\n",
    "    del_output = error_at_output * output_vector_network * (1.0 - output_vector_network)\n",
    "    deltaoutput = learning_rate  * np.dot(del_output, output_vector_hidden.T)\n",
    "    output_weights_orig = output_weights\n",
    "    output_weights += deltaoutput\n",
    "    # calculate hidden errors:\n",
    "    \n",
    "    del_hidden = np.dot(output_weights_orig.T, del_output)\n",
    "    # update the weights:\n",
    "    deltahidden = del_hidden * output_vector_hidden * (1.0 - output_vector_hidden)\n",
    "    hidden_weights += learning_rate * np.dot(deltahidden, input_vector.T)\n"
   ]
  },
  {
   "cell_type": "markdown",
   "metadata": {},
   "source": [
    "## Training using forward prop and back prop"
   ]
  },
  {
   "cell_type": "code",
   "execution_count": 14,
   "metadata": {},
   "outputs": [],
   "source": [
    "def train_network(dataset, l_rate, n_epoch):\n",
    "    loss_array = np.array([])\n",
    "    epoch_array = np.array([])\n",
    "    for epoch in range(n_epoch):\n",
    "        print \"epoch =\",epoch\n",
    "        sum_error = 0\n",
    "        event_count = 0\n",
    "        for row in dataset:\n",
    "            #print row\n",
    "            event_count =event_count+1\n",
    "            #if event_count % 1000 == 0:\n",
    "            #    print event_count,\"events done out of\",len(dataset)\n",
    "            X_train = row[:2]\n",
    "            Y_train = row[2:]\n",
    "            outputs = forward_pass_output(X_train,hidden_weights_set,output_weights_set)\n",
    "            expected = np.array(Y_train,ndmin=2).T\n",
    "            sum_error += np.sum([(expected-outputs)**2])/2\n",
    "            train(X_train,Y_train,l_rate,hidden_weights_set,output_weights_set)\n",
    "        print (\"epoch, lrate, error=\",epoch, l_rate, sum_error/len(dataset))\n",
    "        loss_array = np.append(loss_array,sum_error/len(dataset))\n",
    "        epoch_array = np.append(epoch_array,int(epoch+1))\n",
    "    \n",
    "    plt.plot(epoch_array,loss_array)\n",
    "    plt.ylabel('loss')\n",
    "    plt.xlabel('epochs')\n",
    "    plt.show()"
   ]
  },
  {
   "cell_type": "markdown",
   "metadata": {},
   "source": [
    "## load data for training"
   ]
  },
  {
   "cell_type": "code",
   "execution_count": 15,
   "metadata": {},
   "outputs": [
    {
     "name": "stdout",
     "output_type": "stream",
     "text": [
      "initial hidden layer weights:\n",
      "[[0.44783811 0.5801231 ]\n",
      " [0.21552738 0.9750439 ]\n",
      " [0.21319497 0.42741492]]\n",
      "initial ouput layer weights:\n",
      "[[0.15306463 0.65446952 0.47498245]\n",
      " [0.12686495 0.10627719 0.16466053]]\n",
      "epoch = 0\n",
      "('epoch, lrate, error=', 0, 0.01, 0.25232831501833536)\n",
      "epoch = 1\n",
      "('epoch, lrate, error=', 1, 0.01, 0.25040181854151694)\n",
      "epoch = 2\n",
      "('epoch, lrate, error=', 2, 0.01, 0.25036635063672985)\n",
      "epoch = 3\n",
      "('epoch, lrate, error=', 3, 0.01, 0.25032051462284866)\n",
      "epoch = 4\n",
      "('epoch, lrate, error=', 4, 0.01, 0.25025117734281016)\n",
      "epoch = 5\n",
      "('epoch, lrate, error=', 5, 0.01, 0.2501222055725838)\n",
      "epoch = 6\n",
      "('epoch, lrate, error=', 6, 0.01, 0.24978461083416512)\n",
      "epoch = 7\n",
      "('epoch, lrate, error=', 7, 0.01, 0.24832066413077813)\n",
      "epoch = 8\n",
      "('epoch, lrate, error=', 8, 0.01, 0.24573904008750339)\n",
      "epoch = 9\n",
      "('epoch, lrate, error=', 9, 0.01, 0.2438461634626649)\n",
      "epoch = 10\n",
      "('epoch, lrate, error=', 10, 0.01, 0.2420520273336233)\n",
      "epoch = 11\n",
      "('epoch, lrate, error=', 11, 0.01, 0.24033677501550507)\n",
      "epoch = 12\n",
      "('epoch, lrate, error=', 12, 0.01, 0.23869323681938973)\n",
      "epoch = 13\n",
      "('epoch, lrate, error=', 13, 0.01, 0.23711481915437768)\n",
      "epoch = 14\n",
      "('epoch, lrate, error=', 14, 0.01, 0.23559576100454171)\n",
      "epoch = 15\n",
      "('epoch, lrate, error=', 15, 0.01, 0.23413113428470184)\n",
      "epoch = 16\n",
      "('epoch, lrate, error=', 16, 0.01, 0.23271685465022274)\n",
      "epoch = 17\n",
      "('epoch, lrate, error=', 17, 0.01, 0.2313496078772597)\n",
      "epoch = 18\n",
      "('epoch, lrate, error=', 18, 0.01, 0.23002670464946628)\n",
      "epoch = 19\n",
      "('epoch, lrate, error=', 19, 0.01, 0.2287459173008955)\n",
      "epoch = 20\n",
      "('epoch, lrate, error=', 20, 0.01, 0.22750533405228726)\n",
      "epoch = 21\n",
      "('epoch, lrate, error=', 21, 0.01, 0.2263032463118289)\n",
      "epoch = 22\n",
      "('epoch, lrate, error=', 22, 0.01, 0.225138071357523)\n",
      "epoch = 23\n",
      "('epoch, lrate, error=', 23, 0.01, 0.22400830536846592)\n",
      "epoch = 24\n",
      "('epoch, lrate, error=', 24, 0.01, 0.22291249890887996)\n",
      "epoch = 25\n",
      "('epoch, lrate, error=', 25, 0.01, 0.22184924703860223)\n",
      "epoch = 26\n",
      "('epoch, lrate, error=', 26, 0.01, 0.22081718774878056)\n",
      "epoch = 27\n",
      "('epoch, lrate, error=', 27, 0.01, 0.21981500431586837)\n",
      "epoch = 28\n",
      "('epoch, lrate, error=', 28, 0.01, 0.21884142883824242)\n",
      "epoch = 29\n",
      "('epoch, lrate, error=', 29, 0.01, 0.2178952454599447)\n",
      "epoch = 30\n",
      "('epoch, lrate, error=', 30, 0.01, 0.2169752926034632)\n",
      "epoch = 31\n",
      "('epoch, lrate, error=', 31, 0.01, 0.21608046402063635)\n",
      "epoch = 32\n",
      "('epoch, lrate, error=', 32, 0.01, 0.2152097087308581)\n",
      "epoch = 33\n",
      "('epoch, lrate, error=', 33, 0.01, 0.21436203003340856)\n",
      "epoch = 34\n",
      "('epoch, lrate, error=', 34, 0.01, 0.21353648381575988)\n",
      "epoch = 35\n",
      "('epoch, lrate, error=', 35, 0.01, 0.21273217637085806)\n",
      "epoch = 36\n",
      "('epoch, lrate, error=', 36, 0.01, 0.2119482619072987)\n",
      "epoch = 37\n",
      "('epoch, lrate, error=', 37, 0.01, 0.21118393990048032)\n",
      "epoch = 38\n",
      "('epoch, lrate, error=', 38, 0.01, 0.21043845239755105)\n",
      "epoch = 39\n",
      "('epoch, lrate, error=', 39, 0.01, 0.2097110813577578)\n",
      "epoch = 40\n",
      "('epoch, lrate, error=', 40, 0.01, 0.20900114608394854)\n",
      "epoch = 41\n",
      "('epoch, lrate, error=', 41, 0.01, 0.20830800078054423)\n",
      "epoch = 42\n",
      "('epoch, lrate, error=', 42, 0.01, 0.20763103225791504)\n",
      "epoch = 43\n",
      "('epoch, lrate, error=', 43, 0.01, 0.20696965779175847)\n",
      "epoch = 44\n",
      "('epoch, lrate, error=', 44, 0.01, 0.20632332313827212)\n",
      "epoch = 45\n",
      "('epoch, lrate, error=', 45, 0.01, 0.2056915007006013)\n",
      "epoch = 46\n",
      "('epoch, lrate, error=', 46, 0.01, 0.2050736878388415)\n",
      "epoch = 47\n",
      "('epoch, lrate, error=', 47, 0.01, 0.20446940531399374)\n",
      "epoch = 48\n",
      "('epoch, lrate, error=', 48, 0.01, 0.2038781958555215)\n",
      "epoch = 49\n",
      "('epoch, lrate, error=', 49, 0.01, 0.20329962284204284)\n"
     ]
    },
    {
     "data": {
      "image/png": "[encoded data removed]",
      "text/plain": [
       "<Figure size 432x288 with 1 Axes>"
      ]
     },
     "metadata": {
      "needs_background": "light"
     },
     "output_type": "display_data"
    },
    {
     "name": "stdout",
     "output_type": "stream",
     "text": [
      "final hidden layer weights:\n",
      "[[0.6216882  0.74803349]\n",
      " [0.41621545 1.10222268]\n",
      " [0.06762737 0.14973935]]\n",
      "final ouput layer weights:\n",
      "[[ 1.44651203  1.98593852 -3.10270277]\n",
      " [-1.16658244 -1.22519181  3.74234575]]\n"
     ]
    }
   ],
   "source": [
    "dataset = np.loadtxt(fname=\"sample_shuff_train.txt\")\n",
    "hidden_weights_set = np.random.rand(n_hidden,n_input)\n",
    "output_weights_set = np.random.rand(n_output,n_hidden)\n",
    "print \"initial hidden layer weights:\\n\",hidden_weights_set\n",
    "print \"initial ouput layer weights:\\n\",output_weights_set   \n",
    "train_network(dataset, 0.01, n_epochs)\n",
    "print \"final hidden layer weights:\\n\",hidden_weights_set\n",
    "print \"final ouput layer weights:\\n\",output_weights_set"
   ]
  },
  {
   "cell_type": "markdown",
   "metadata": {},
   "source": [
    "## testing network"
   ]
  },
  {
   "cell_type": "code",
   "execution_count": 16,
   "metadata": {},
   "outputs": [],
   "source": [
    "# /convolutional neural network keras\n",
    "def test_network(dataset1,dataset2):\n",
    "    sum_error = 0\n",
    "    event_count = 0\n",
    "    event_count2 = 0\n",
    "    classa_pred = np.array([])\n",
    "    classb_pred = np.array([])\n",
    "    for row in dataset1:\n",
    "            event_count =event_count+1\n",
    "            if event_count % 1000 == 0:\n",
    "                print event_count,\"events done out of\",len(dataset)\n",
    "            X_train = row[:2]\n",
    "            Y_train = row[2:]\n",
    "            outputs = forward_pass_output(X_train,hidden_weights_set,output_weights_set)\n",
    "            classa_pred = np.append(classa_pred,outputs[0])\n",
    "    for row in dataset2:\n",
    "            event_count2 =event_count2+1\n",
    "            if event_count2 % 1000 == 0:\n",
    "                print event_count2,\"events done out of\",len(dataset)\n",
    "            X_train = row[:2]\n",
    "            Y_train = row[2:]\n",
    "            outputs = forward_pass_output(X_train,hidden_weights_set,output_weights_set)\n",
    "            classb_pred = np.append(classb_pred,outputs[0])           \n",
    "                \n",
    "    plt.hist(classa_pred,bins=100,range=[0,1],color=\"R\")\n",
    "    plt.hist(classb_pred,bins=100,range=[0,1],color=\"B\")\n",
    "    plt.legend(['Class A', 'Class B'], loc='upper right')\n",
    "    plt.show()\n",
    "    print \"class A accuracy =\", sum(np.array ([1.0 if i >= 0.5 else 0.0 for i in classa_pred]))/len(dataset1)\n",
    "    print \"class B accuracy =\", sum(np.array ([1.0 if i <= 0.5 else 0.0 for i in classb_pred]))/len(dataset2)\n",
    "    print \"combined accuracy=\", (sum(np.array ([1.0 if i >= 0.5 else 0.0 for i in classa_pred])) + sum(np.array ([1.0 if i <= 0.5 else 0.0 for i in classb_pred])))/(len(dataset1)+len(dataset2))"
   ]
  },
  {
   "cell_type": "code",
   "execution_count": 17,
   "metadata": {},
   "outputs": [
    {
     "name": "stdout",
     "output_type": "stream",
     "text": [
      "1000 events done out of 3200\n",
      "2000 events done out of 3200\n",
      "1000 events done out of 3200\n",
      "2000 events done out of 3200\n"
     ]
    },
    {
     "data": {
      "image/png": "[encoded data removed]",
      "text/plain": [
       "<Figure size 432x288 with 1 Axes>"
      ]
     },
     "metadata": {
      "needs_background": "light"
     },
     "output_type": "display_data"
    },
    {
     "name": "stdout",
     "output_type": "stream",
     "text": [
      "class A accuracy = 0.62\n",
      "class B accuracy = 0.945\n",
      "combined accuracy= 0.7825\n"
     ]
    }
   ],
   "source": [
    "dataset1 = np.loadtxt(fname=\"sample1.txt\")\n",
    "dataset2 = np.loadtxt(fname=\"sample2.txt\")\n",
    "test_network(dataset1,dataset2)"
   ]
  },
  {
   "cell_type": "code",
   "execution_count": null,
   "metadata": {
    "collapsed": true
   },
   "outputs": [],
   "source": []
  }
 ],
 "metadata": {
  "kernelspec": {
   "display_name": "Python 2",
   "language": "python",
   "name": "python2"
  },
  "language_info": {
   "codemirror_mode": {
    "name": "ipython",
    "version": 2
   },
   "file_extension": ".py",
   "mimetype": "text/x-python",
   "name": "python",
   "nbconvert_exporter": "python",
   "pygments_lexer": "ipython2",
   "version": "2.7.16"
  }
 },
 "nbformat": 4,
 "nbformat_minor": 2
}
